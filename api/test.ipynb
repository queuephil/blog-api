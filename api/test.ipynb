{
 "cells": [
  {
   "cell_type": "code",
   "execution_count": 11,
   "metadata": {},
   "outputs": [],
   "source": [
    "from dotenv import load_dotenv\n",
    "import os\n",
    "import requests\n",
    "\n",
    "load_dotenv()\n",
    "\n",
    "token = os.getenv('TOKEN')\n",
    "headers = {'Authorization': f'Bearer {token}'}"
   ]
  },
  {
   "cell_type": "code",
   "execution_count": 2,
   "metadata": {},
   "outputs": [
    {
     "name": "stdout",
     "output_type": "stream",
     "text": [
      "[{'id': 16, 'title': None, 'text': 'This is one post', 'userId': 7}, {'id': 17, 'title': None, 'text': 'And this is another post', 'userId': 7}, {'id': 20, 'title': None, 'text': 'asdf', 'userId': 7}]\n"
     ]
    }
   ],
   "source": [
    "# GET with Authorization\n",
    "url = 'http://localhost:3000/posts'\n",
    "\n",
    "response = requests.get(url)\n",
    "print(response.json())"
   ]
  },
  {
   "cell_type": "code",
   "execution_count": 12,
   "metadata": {},
   "outputs": [
    {
     "name": "stdout",
     "output_type": "stream",
     "text": [
      "{'id': 23, 'title': None, 'text': 'Example from Test', 'userId': 7}\n"
     ]
    }
   ],
   "source": [
    "# POST with Authorization and Body\n",
    "url = 'http://localhost:3000/posts'\n",
    "body = {'text': 'Example from Test'} \n",
    "\n",
    "response = requests.post(url, headers=headers, json=body)\n",
    "print(response.json())"
   ]
  },
  {
   "cell_type": "code",
   "execution_count": 5,
   "metadata": {},
   "outputs": [
    {
     "name": "stdout",
     "output_type": "stream",
     "text": [
      "{'id': 22, 'title': None, 'text': 'Updated Example', 'userId': 7}\n"
     ]
    }
   ],
   "source": [
    "# PUT with Authorization and Body\n",
    "url = 'http://localhost:3000/posts/22'\n",
    "body = {'text': 'Updated Example'}\n",
    "\n",
    "response = requests.put(url, headers=headers, json=body)\n",
    "print(response.json())"
   ]
  },
  {
   "cell_type": "code",
   "execution_count": 6,
   "metadata": {},
   "outputs": [
    {
     "name": "stdout",
     "output_type": "stream",
     "text": [
      "{'id': 22, 'title': None, 'text': 'Updated Example', 'userId': 7}\n"
     ]
    }
   ],
   "source": [
    "# DELETE with Authorization\n",
    "url = 'http://localhost:3000/posts/22'\n",
    "\n",
    "response = requests.delete(url, headers=headers)\n",
    "print(response.json())"
   ]
  }
 ],
 "metadata": {
  "kernelspec": {
   "display_name": "Python 3",
   "language": "python",
   "name": "python3"
  },
  "language_info": {
   "codemirror_mode": {
    "name": "ipython",
    "version": 3
   },
   "file_extension": ".py",
   "mimetype": "text/x-python",
   "name": "python",
   "nbconvert_exporter": "python",
   "pygments_lexer": "ipython3",
   "version": "3.13.1"
  }
 },
 "nbformat": 4,
 "nbformat_minor": 2
}
